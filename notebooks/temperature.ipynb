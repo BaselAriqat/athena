{
 "cells": [
  {
   "cell_type": "markdown",
   "metadata": {},
   "source": [
    "# Introduction to Athena\n",
    "## Modelling the Effect of Relative Humidity on Surface Temperature\n",
    "\n",
    "In this short tutorial, we'll use Athena to build an equation that models the relationship between hour of day, humidity, and surface temperature. The data is from a hobbyist weather station that is owned by ArabiaWeather."
   ]
  },
  {
   "cell_type": "code",
   "execution_count": 1,
   "metadata": {
    "collapsed": true
   },
   "outputs": [],
   "source": [
    "import pandas as pd\n",
    "from dateutil.parser import parse \n",
    "\n",
    "from athena.equations import *\n",
    "from athena.framework import Framework\n",
    "from athena.dataset import Dataset\n",
    "from athena.model import AdditiveModel\n",
    "from athena.helpers import *"
   ]
  },
  {
   "cell_type": "markdown",
   "metadata": {},
   "source": [
    "Fix the random seed so that we can obtain reproducible results."
   ]
  },
  {
   "cell_type": "code",
   "execution_count": 2,
   "metadata": {
    "collapsed": true
   },
   "outputs": [],
   "source": [
    "np.random.seed(seed = 4)"
   ]
  },
  {
   "cell_type": "markdown",
   "metadata": {},
   "source": [
    "## Importing Data and Data Sanitization \n",
    "\n",
    "We read in our data from a comma separated values (CSV) file using the Pandas library. We are only interested in a select few columns in the data so we select only them."
   ]
  },
  {
   "cell_type": "code",
   "execution_count": 3,
   "metadata": {
    "collapsed": true
   },
   "outputs": [],
   "source": [
    "data_frame = pd.read_csv('/home/khaled/repositories/athena-github/ivzhe139.csv')\n",
    "data_frame = data_frame[[\"time\", \"temp\", \"humidity\"]]"
   ]
  },
  {
   "cell_type": "markdown",
   "metadata": {},
   "source": [
    "We have to sanitize the data before we start fitting equations to it. We need a function to convert time to a percentage of the day (eg: 12:00 would become 50%). This will help a great deal when we want to fit a sine wave to the hour of day to relate it to surface temperature."
   ]
  },
  {
   "cell_type": "code",
   "execution_count": 4,
   "metadata": {
    "collapsed": true
   },
   "outputs": [],
   "source": [
    "def get_hour(x):\n",
    "    y = parse(x)\n",
    "    return y.hour + y.minute/60.0\n",
    "\n",
    "data_frame[\"time\"] = [get_hour(x)/24.0 for x in data_frame[\"time\"].values]"
   ]
  },
  {
   "cell_type": "markdown",
   "metadata": {},
   "source": [
    "Athena includes some helper functions to assist in equation building; one of them is the `split_dataframe` function. This will randomly split the data into `x%` training and `(100-x)%` testing sets."
   ]
  },
  {
   "cell_type": "code",
   "execution_count": 5,
   "metadata": {
    "collapsed": true
   },
   "outputs": [],
   "source": [
    "training_df, testing_df = split_dataframe(data_frame, 0.9)"
   ]
  },
  {
   "cell_type": "markdown",
   "metadata": {},
   "source": [
    "Athena can also automatically normalize your data; normalizing data to fit between 0 and 1 greatly assists curve fitting because most of the built in equations are designed to work optimally on that numerical range. A parameter map first splits columns into normalized and non-normalized, then maps each column name in the data to a short-hand name to be used in the equation. Here we will map `time` to `t`, and `humidity` to `h`."
   ]
  },
  {
   "cell_type": "code",
   "execution_count": 6,
   "metadata": {
    "collapsed": true
   },
   "outputs": [],
   "source": [
    "parameters_map = {\n",
    "    \"normalized\": {\n",
    "        \n",
    "    },\n",
    "    \"not_normalized\": {\n",
    "        \"time\": \"t\",\n",
    "        \"humidity\": \"h\",     \n",
    "    }\n",
    "}"
   ]
  },
  {
   "cell_type": "markdown",
   "metadata": {},
   "source": [
    "## Using the Athena Framework\n",
    "\n",
    "Every equation building session in Athena operates out of something called a `Framework`; as its name suggests, an Athena framework will consilidate all your datasets, equations, hyper-parameters, etc in one Python class. Beginning a `Framework` class requires passing a Python dictionary containing hyper-parameters; you can leave this empty and the default parameters will be used instead."
   ]
  },
  {
   "cell_type": "code",
   "execution_count": 34,
   "metadata": {
    "collapsed": true
   },
   "outputs": [],
   "source": [
    "max_iterations = int(1e4)\n",
    "starter_learning_rate = 0.0005\n",
    "momentum = 0.95\n",
    "\n",
    "framework_parameters = {\n",
    "    \"starting_lr\": starter_learning_rate,\n",
    "    \"max_iterations\": max_iterations,\n",
    "    \"momentum\": momentum,\n",
    "}\n",
    "\n",
    "fw = Framework(framework_parameters)"
   ]
  },
  {
   "cell_type": "markdown",
   "metadata": {},
   "source": [
    "We can initialize our datasets along with their parameter map using the `Dataset` class. We then feed this into the `Framework` class by using the function `add_dataset`. Our data is now sanitized and inside our framework, ready for processing and equation building."
   ]
  },
  {
   "cell_type": "code",
   "execution_count": null,
   "metadata": {
    "collapsed": true
   },
   "outputs": [],
   "source": [
    "fw.add_dataset(Dataset(parameters_map, training_df, testing_df))"
   ]
  },
  {
   "cell_type": "markdown",
   "metadata": {},
   "source": [
    "## Introduction to the Additive Model\n",
    "\n",
    "There are many types of model equations we can use through Athena as a base for our equation building blocks. The simplest of which is the Additive Model; this means that every function in this model is added - for example, if we have `f(a)`, `g(b)`, and `h(c)`, applying these to an additive model will create an equation of the form `f(a) + g(b) + h(c)`. There are more complex models available to the user, such as the multiplicative model and the composite model, all of which are explained in more advanced tutorials."
   ]
  },
  {
   "cell_type": "code",
   "execution_count": 35,
   "metadata": {
    "collapsed": true
   },
   "outputs": [],
   "source": [
    "model = AdditiveModel(fw)"
   ]
  },
  {
   "cell_type": "markdown",
   "metadata": {},
   "source": [
    "We get the target column in both training and testing datasets and assign them as floats in `training_targets` and `testing_targets` to be used later in accuracy measurement."
   ]
  },
  {
   "cell_type": "code",
   "execution_count": 36,
   "metadata": {
    "collapsed": true
   },
   "outputs": [],
   "source": [
    "target_column_name = \"temp\"\n",
    "training_targets = training_df[target_column_name].values.astype(np.float32)\n",
    "testing_targets = testing_df[target_column_name].values.astype(np.float32)"
   ]
  },
  {
   "cell_type": "markdown",
   "metadata": {},
   "source": [
    "Creating the components of an additive model is simple and similar in fashion to creating a neural network model in Keras, for example. We first add a `Bias` function, the simplest kind of function which adds a variable number to our equation. Then we add four `SimpleSinusoidal` functions and pass them the name of the column we want the function to work on; since temperature changes sinusoidally with time, we add four sine functions that have variable amplitudes, frequencies, and phase shifts to our equation (thisis very similar to taking the first four terms in an [infintie Fourier series](https://en.wikipedia.org/wiki/Fourier_series)). Finally, because we assume that humidity changes exponentially with temperature, we add two `FlexiblePower` functions to reflect this assumption."
   ]
  },
  {
   "cell_type": "code",
   "execution_count": 37,
   "metadata": {
    "collapsed": true
   },
   "outputs": [],
   "source": [
    "model.add(Bias)\n",
    "\n",
    "for i in range(4):\n",
    "    model.add(SimpleSinusoidal, \"time\")\n",
    "\n",
    "for i in range(2):\n",
    "    model.add(FlexiblePower, \"humidity\")\n",
    "\n",
    "\n",
    "fw.initialize(model, training_targets)"
   ]
  },
  {
   "cell_type": "markdown",
   "metadata": {},
   "source": [
    "Here comes the fun part: iteratively fitting our equation. Athena, using Tensorflow as its backend, will automatically differentiate the equation we want to fit our data to, then find the roots of the differential using whichever optimization algorithm we specified in the framework (the default algorithm is the [Adam Stochastic Optimization](https://arxiv.org/abs/1412.6980) algorithm). At every 10% of the fitting process, we output some accuracy metrics of our equation for both the training and testing datasets; in this example, we output the [Pearson correlation coefficient](https://en.wikipedia.org/wiki/Pearson_correlation_coefficient), then the root mean squared error, 90th, 95th and 99th percentile errors, in that order."
   ]
  },
  {
   "cell_type": "code",
   "execution_count": 38,
   "metadata": {},
   "outputs": [
    {
     "name": "stdout",
     "output_type": "stream",
     "text": [
      "\n",
      "========================================\n",
      "0% \n",
      "========================================\n",
      "Training\t-71.0\t12.0\t20.0\t22.0\t24.0\n",
      "Testing \t-73.0\t12.0\t20.0\t22.0\t24.0\n",
      "\n",
      "========================================\n",
      "10% \n",
      "========================================\n",
      "Training\t80.0\t2.0\t4.0\t5.0\t7.0\n",
      "Testing \t80.0\t2.0\t4.0\t5.0\t8.0\n",
      "\n",
      "========================================\n",
      "20% \n",
      "========================================\n",
      "Training\t83.0\t2.0\t4.0\t4.0\t6.0\n",
      "Testing \t83.0\t2.0\t4.0\t4.0\t7.0\n",
      "\n",
      "========================================\n",
      "30% \n",
      "========================================\n",
      "Training\t85.0\t2.0\t4.0\t4.0\t6.0\n",
      "Testing \t85.0\t2.0\t3.0\t4.0\t7.0\n",
      "\n",
      "========================================\n",
      "40% \n",
      "========================================\n",
      "Training\t86.0\t2.0\t3.0\t4.0\t6.0\n",
      "Testing \t85.0\t2.0\t3.0\t4.0\t6.0\n",
      "\n",
      "========================================\n",
      "50% \n",
      "========================================\n",
      "Training\t86.0\t2.0\t3.0\t4.0\t6.0\n",
      "Testing \t86.0\t2.0\t3.0\t4.0\t6.0\n",
      "\n",
      "========================================\n",
      "60% \n",
      "========================================\n",
      "Training\t86.0\t2.0\t3.0\t4.0\t6.0\n",
      "Testing \t86.0\t2.0\t3.0\t4.0\t6.0\n",
      "\n",
      "========================================\n",
      "70% \n",
      "========================================\n",
      "Training\t86.0\t2.0\t3.0\t4.0\t6.0\n",
      "Testing \t86.0\t2.0\t3.0\t4.0\t6.0\n",
      "\n",
      "========================================\n",
      "80% \n",
      "========================================\n",
      "Training\t86.0\t2.0\t3.0\t4.0\t6.0\n",
      "Testing \t86.0\t2.0\t3.0\t4.0\t6.0\n",
      "\n",
      "========================================\n",
      "90% \n",
      "========================================\n",
      "Training\t86.0\t2.0\t3.0\t4.0\t6.0\n",
      "Testing \t86.0\t2.0\t3.0\t4.0\t6.0\n",
      "\n",
      "========================================\n",
      "100% \n",
      "========================================\n",
      "Training\t86.0\t2.0\t3.0\t4.0\t6.0\n",
      "Testing \t86.0\t2.0\t3.0\t4.0\t6.0\n"
     ]
    }
   ],
   "source": [
    "for step in range(int(fw.max_iters + 1)):\n",
    "    fw.run_learning_step()\n",
    "    if step % int(fw.max_iters / 10) == 0:\n",
    "        print(\"\\n\", \"=\" * 40, \"\\n\", round(step / fw.max_iters * 100), \"% \\n\", \"=\" * 40, sep=\"\", end=\"\\n\")\n",
    "        training_t = training_targets, fw.get_training_predictions()\n",
    "        testing_t = testing_targets, fw.get_testing_predictions()\n",
    "\n",
    "        try:\n",
    "            for j, k in list(zip([\"Training\", \"Testing \"], [training_t, testing_t])):\n",
    "                print(j, end = \"\\t\")\n",
    "                print_statistics(*k)\n",
    "\n",
    "        except Exception as e:\n",
    "            print(\"Error! {}\".format(e))"
   ]
  },
  {
   "cell_type": "markdown",
   "metadata": {},
   "source": [
    "We can get the equation from Athena by using the framework function `produce_equation`. This will return a `sympy` equation; `sympy` is, at its core, a [powerful Python library for symbolic mathematics](http://docs.sympy.org/latest/index.html) - we will need it for a bunch of cool things, like automatic symbolic simplification, pretty printing, and even outputting LaTeX for use in an academic paper."
   ]
  },
  {
   "cell_type": "code",
   "execution_count": 39,
   "metadata": {
    "collapsed": true
   },
   "outputs": [],
   "source": [
    "equation = fw.produce_equation()\n",
    "fw.session.close()"
   ]
  },
  {
   "cell_type": "markdown",
   "metadata": {},
   "source": [
    "## Visualizing the Result with Sympy and Matplotlib\n",
    "\n",
    "When in an interactive Python notebook, we can output a pretty simplified version of our temperature equation to the notebook and examine the coefficients we produced. Upon simple inspection, we can see we inferred an inverse correlation, also known as a negative correlation, between humidity and temperature. That is, the more we increase humidity, we will see an exponential decrease in temperature."
   ]
  },
  {
   "cell_type": "code",
   "execution_count": 40,
   "metadata": {
    "collapsed": true
   },
   "outputs": [],
   "source": [
    "from sympy import pprint, N, nsimplify, init_printing"
   ]
  },
  {
   "cell_type": "code",
   "execution_count": 41,
   "metadata": {},
   "outputs": [
    {
     "data": {
      "image/png": "[encoded data removed]",
      "text/plain": [
       "       -0.07866            ⎛1169⋅π⋅t   4613⎞            ⎛9311⋅π⋅t   16213⎞    \n",
       "55.98⋅h         - 5.655⋅sin⎜──────── + ────⎟ + 2.825⋅sin⎜──────── - ─────⎟ + 5\n",
       "                           ⎝  7249     6389⎠            ⎝  3620      6985⎠    \n",
       "\n",
       "        ⎛45980⋅π⋅t   22499⎞            ⎛47720⋅π⋅t   6717⎞        \n",
       ".151⋅sin⎜───────── - ─────⎟ + 4.319⋅sin⎜───────── - ────⎟ - 14.08\n",
       "        ⎝   9833      6465⎠            ⎝   9621     7333⎠        "
      ]
     },
     "execution_count": 41,
     "metadata": {},
     "output_type": "execute_result"
    }
   ],
   "source": [
    "init_printing()\n",
    "N(nsimplify(equation, tolerance=1e-4), 4)"
   ]
  },
  {
   "cell_type": "code",
   "execution_count": 42,
   "metadata": {},
   "outputs": [
    {
     "name": "stdout",
     "output_type": "stream",
     "text": [
      "Populating the interactive namespace from numpy and matplotlib\n"
     ]
    },
    {
     "name": "stderr",
     "output_type": "stream",
     "text": [
      "/usr/local/lib/python3.5/dist-packages/IPython/core/magics/pylab.py:160: UserWarning: pylab import has clobbered these variables: ['step']\n",
      "`%matplotlib` prevents importing * from pylab and numpy\n",
      "  \"\\n`%matplotlib` prevents importing * from pylab and numpy\"\n"
     ]
    }
   ],
   "source": [
    "% pylab inline\n",
    "import seaborn as sns\n",
    "sns.set_style('whitegrid')"
   ]
  },
  {
   "cell_type": "code",
   "execution_count": 43,
   "metadata": {
    "collapsed": true
   },
   "outputs": [],
   "source": [
    "from sympy import lambdify\n",
    "from sympy.abc import t, h"
   ]
  },
  {
   "cell_type": "markdown",
   "metadata": {},
   "source": [
    "`Sympy` lets us create a fast Python function from our generated equation, so that we can quickly substitute large arrays of numbers to produce results for table or chart production later."
   ]
  },
  {
   "cell_type": "code",
   "execution_count": 44,
   "metadata": {
    "collapsed": true
   },
   "outputs": [],
   "source": [
    "y_axis = lambdify((t, h), equation, \"numpy\")"
   ]
  },
  {
   "cell_type": "markdown",
   "metadata": {},
   "source": [
    "Let's observe the effect of increasing humidity on surface temperature throughout the hours of the day. We can generate the y-axis for each humidity level by utilizing the function we created before. We'll plot the temperatures at varying humidity levels on the same graph."
   ]
  },
  {
   "cell_type": "code",
   "execution_count": 48,
   "metadata": {},
   "outputs": [
    {
     "data": {
      "image/png": "[encoded data removed]",
      "text/plain": [
       "<matplotlib.figure.Figure at 0x7fbfa6d89438>"
      ]
     },
     "metadata": {},
     "output_type": "display_data"
    }
   ],
   "source": [
    "plt.figure(figsize=(8, 8))\n",
    "x_axis = np.linspace(0.0, 1.0, 100)\n",
    "\n",
    "for humidity in range(5, 100 + 1, 20):\n",
    "    plt.plot(x_axis * 24.0, y_axis(x_axis, np.array([humidity])), label='{}%'.format(humidity))\n",
    "\n",
    "plt.legend()\n",
    "plt.xlabel('Time of Day (hrs)', fontsize=16)\n",
    "plt.ylabel('Temperature (°C)', fontsize=16)\n",
    "plt.show()"
   ]
  }
 ],
 "metadata": {
  "kernelspec": {
   "display_name": "Python 3",
   "language": "python",
   "name": "python3"
  },
  "language_info": {
   "codemirror_mode": {
    "name": "ipython",
    "version": 3.0
   },
   "file_extension": ".py",
   "mimetype": "text/x-python",
   "name": "python",
   "nbconvert_exporter": "python",
   "pygments_lexer": "ipython3",
   "version": "3.5.2+"
  }
 },
 "nbformat": 4,
 "nbformat_minor": 0
}